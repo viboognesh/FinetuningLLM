{
 "cells": [
  {
   "cell_type": "code",
   "execution_count": 3,
   "metadata": {},
   "outputs": [
    {
     "name": "stderr",
     "output_type": "stream",
     "text": [
      "C:\\Users\\viboo\\AppData\\Local\\Temp\\ipykernel_9208\\4080736814.py:1: DeprecationWarning: \n",
      "Pyarrow will become a required dependency of pandas in the next major release of pandas (pandas 3.0),\n",
      "(to allow more performant data types, such as the Arrow string type, and better interoperability with other libraries)\n",
      "but was not found to be installed on your system.\n",
      "If this would cause problems for you,\n",
      "please provide us feedback at https://github.com/pandas-dev/pandas/issues/54466\n",
      "        \n",
      "  import pandas as pd\n"
     ]
    }
   ],
   "source": [
    "import pandas as pd"
   ]
  },
  {
   "cell_type": "code",
   "execution_count": 4,
   "metadata": {},
   "outputs": [
    {
     "data": {
      "text/html": [
       "<div>\n",
       "<style scoped>\n",
       "    .dataframe tbody tr th:only-of-type {\n",
       "        vertical-align: middle;\n",
       "    }\n",
       "\n",
       "    .dataframe tbody tr th {\n",
       "        vertical-align: top;\n",
       "    }\n",
       "\n",
       "    .dataframe thead th {\n",
       "        text-align: right;\n",
       "    }\n",
       "</style>\n",
       "<table border=\"1\" class=\"dataframe\">\n",
       "  <thead>\n",
       "    <tr style=\"text-align: right;\">\n",
       "      <th></th>\n",
       "      <th>medical_specialty</th>\n",
       "      <th>report</th>\n",
       "    </tr>\n",
       "  </thead>\n",
       "  <tbody>\n",
       "    <tr>\n",
       "      <th>0</th>\n",
       "      <td>Cardiovascular / Pulmonary</td>\n",
       "      <td>2-D M-MODE: , ,1.  Left atrial enlargement wit...</td>\n",
       "    </tr>\n",
       "    <tr>\n",
       "      <th>1</th>\n",
       "      <td>Cardiovascular / Pulmonary</td>\n",
       "      <td>1.  The left ventricular cavity size and wall ...</td>\n",
       "    </tr>\n",
       "    <tr>\n",
       "      <th>2</th>\n",
       "      <td>Cardiovascular / Pulmonary</td>\n",
       "      <td>2-D ECHOCARDIOGRAM,Multiple views of the heart...</td>\n",
       "    </tr>\n",
       "    <tr>\n",
       "      <th>3</th>\n",
       "      <td>Cardiovascular / Pulmonary</td>\n",
       "      <td>DESCRIPTION:,1.  Normal cardiac chambers size....</td>\n",
       "    </tr>\n",
       "    <tr>\n",
       "      <th>4</th>\n",
       "      <td>Cardiovascular / Pulmonary</td>\n",
       "      <td>2-D STUDY,1. Mild aortic stenosis, widely calc...</td>\n",
       "    </tr>\n",
       "  </tbody>\n",
       "</table>\n",
       "</div>"
      ],
      "text/plain": [
       "            medical_specialty  \\\n",
       "0  Cardiovascular / Pulmonary   \n",
       "1  Cardiovascular / Pulmonary   \n",
       "2  Cardiovascular / Pulmonary   \n",
       "3  Cardiovascular / Pulmonary   \n",
       "4  Cardiovascular / Pulmonary   \n",
       "\n",
       "                                              report  \n",
       "0  2-D M-MODE: , ,1.  Left atrial enlargement wit...  \n",
       "1  1.  The left ventricular cavity size and wall ...  \n",
       "2  2-D ECHOCARDIOGRAM,Multiple views of the heart...  \n",
       "3  DESCRIPTION:,1.  Normal cardiac chambers size....  \n",
       "4  2-D STUDY,1. Mild aortic stenosis, widely calc...  "
      ]
     },
     "execution_count": 4,
     "metadata": {},
     "output_type": "execute_result"
    }
   ],
   "source": [
    "medical_reports = pd.read_csv('reports_.csv')\n",
    "medical_reports.head()"
   ]
  },
  {
   "cell_type": "code",
   "execution_count": 5,
   "metadata": {},
   "outputs": [
    {
     "name": "stdout",
     "output_type": "stream",
     "text": [
      "<class 'pandas.core.frame.DataFrame'>\n",
      "RangeIndex: 2179 entries, 0 to 2178\n",
      "Data columns (total 2 columns):\n",
      " #   Column             Non-Null Count  Dtype \n",
      "---  ------             --------------  ----- \n",
      " 0   medical_specialty  2179 non-null   object\n",
      " 1   report             2179 non-null   object\n",
      "dtypes: object(2)\n",
      "memory usage: 34.2+ KB\n"
     ]
    }
   ],
   "source": [
    "medical_reports.info()"
   ]
  },
  {
   "cell_type": "code",
   "execution_count": 7,
   "metadata": {},
   "outputs": [],
   "source": [
    "medical_reports.dropna(subset=['report'],inplace=True)"
   ]
  },
  {
   "cell_type": "code",
   "execution_count": 8,
   "metadata": {},
   "outputs": [
    {
     "name": "stdout",
     "output_type": "stream",
     "text": [
      "<class 'pandas.core.frame.DataFrame'>\n",
      "RangeIndex: 2179 entries, 0 to 2178\n",
      "Data columns (total 2 columns):\n",
      " #   Column             Non-Null Count  Dtype \n",
      "---  ------             --------------  ----- \n",
      " 0   medical_specialty  2179 non-null   object\n",
      " 1   report             2179 non-null   object\n",
      "dtypes: object(2)\n",
      "memory usage: 34.2+ KB\n"
     ]
    }
   ],
   "source": [
    "medical_reports.info()"
   ]
  },
  {
   "cell_type": "code",
   "execution_count": null,
   "metadata": {},
   "outputs": [],
   "source": [
    "# medical_reports.fillna()"
   ]
  },
  {
   "cell_type": "code",
   "execution_count": 11,
   "metadata": {},
   "outputs": [
    {
     "data": {
      "text/html": [
       "<div>\n",
       "<style scoped>\n",
       "    .dataframe tbody tr th:only-of-type {\n",
       "        vertical-align: middle;\n",
       "    }\n",
       "\n",
       "    .dataframe tbody tr th {\n",
       "        vertical-align: top;\n",
       "    }\n",
       "\n",
       "    .dataframe thead th {\n",
       "        text-align: right;\n",
       "    }\n",
       "</style>\n",
       "<table border=\"1\" class=\"dataframe\">\n",
       "  <thead>\n",
       "    <tr style=\"text-align: right;\">\n",
       "      <th></th>\n",
       "      <th>report</th>\n",
       "    </tr>\n",
       "    <tr>\n",
       "      <th>medical_specialty</th>\n",
       "      <th></th>\n",
       "    </tr>\n",
       "  </thead>\n",
       "  <tbody>\n",
       "    <tr>\n",
       "      <th>Cardiovascular / Pulmonary</th>\n",
       "      <td>371</td>\n",
       "    </tr>\n",
       "    <tr>\n",
       "      <th>Gastroenterology</th>\n",
       "      <td>224</td>\n",
       "    </tr>\n",
       "    <tr>\n",
       "      <th>Neurology</th>\n",
       "      <td>223</td>\n",
       "    </tr>\n",
       "    <tr>\n",
       "      <th>Radiology</th>\n",
       "      <td>273</td>\n",
       "    </tr>\n",
       "    <tr>\n",
       "      <th>Surgery</th>\n",
       "      <td>1088</td>\n",
       "    </tr>\n",
       "  </tbody>\n",
       "</table>\n",
       "</div>"
      ],
      "text/plain": [
       "                            report\n",
       "medical_specialty                 \n",
       "Cardiovascular / Pulmonary     371\n",
       "Gastroenterology               224\n",
       "Neurology                      223\n",
       "Radiology                      273\n",
       "Surgery                       1088"
      ]
     },
     "execution_count": 11,
     "metadata": {},
     "output_type": "execute_result"
    }
   ],
   "source": [
    "#Train validation final test\n",
    "\n",
    "medical_reports.groupby('medical_specialty').count()"
   ]
  },
  {
   "cell_type": "code",
   "execution_count": 39,
   "metadata": {},
   "outputs": [],
   "source": [
    "grouped_data = medical_reports.groupby('medical_specialty').sample(50)"
   ]
  },
  {
   "cell_type": "code",
   "execution_count": 40,
   "metadata": {},
   "outputs": [
    {
     "data": {
      "text/plain": [
       "medical_specialty\n",
       "Cardiovascular / Pulmonary    50\n",
       "Gastroenterology              50\n",
       "Neurology                     50\n",
       "Radiology                     50\n",
       "Surgery                       50\n",
       "Name: count, dtype: int64"
      ]
     },
     "execution_count": 40,
     "metadata": {},
     "output_type": "execute_result"
    }
   ],
   "source": [
    "grouped_data['medical_specialty'].value_counts()"
   ]
  },
  {
   "cell_type": "code",
   "execution_count": 41,
   "metadata": {},
   "outputs": [],
   "source": [
    "val_test_data = grouped_data.groupby('medical_specialty').sample(10)"
   ]
  },
  {
   "cell_type": "code",
   "execution_count": 42,
   "metadata": {},
   "outputs": [],
   "source": [
    "val_data = val_test_data.groupby('medical_specialty').head(5)\n",
    "test_data = val_test_data.groupby('medical_specialty').tail(5)"
   ]
  },
  {
   "cell_type": "code",
   "execution_count": 43,
   "metadata": {},
   "outputs": [],
   "source": [
    "train_data = grouped_data[~grouped_data.index.isin(val_test_data.index)]"
   ]
  },
  {
   "cell_type": "code",
   "execution_count": 44,
   "metadata": {},
   "outputs": [
    {
     "name": "stdout",
     "output_type": "stream",
     "text": [
      "200 25 25\n"
     ]
    }
   ],
   "source": [
    "print(len(train_data), len(val_data), len(test_data))"
   ]
  },
  {
   "cell_type": "markdown",
   "metadata": {},
   "source": [
    "## Dataset Statistics"
   ]
  },
  {
   "cell_type": "code",
   "execution_count": 45,
   "metadata": {},
   "outputs": [],
   "source": [
    "import tiktoken"
   ]
  },
  {
   "cell_type": "code",
   "execution_count": 46,
   "metadata": {},
   "outputs": [],
   "source": [
    "def num_tokens(string):\n",
    "    encoding = tiktoken.get_encoding('cl100k_base')\n",
    "    num_tokens = len(encoding.encode(string))\n",
    "    return num_tokens"
   ]
  },
  {
   "cell_type": "code",
   "execution_count": 47,
   "metadata": {},
   "outputs": [
    {
     "data": {
      "text/plain": [
       "2"
      ]
     },
     "execution_count": 47,
     "metadata": {},
     "output_type": "execute_result"
    }
   ],
   "source": [
    "num_tokens(\"Hello world\")"
   ]
  },
  {
   "cell_type": "code",
   "execution_count": 48,
   "metadata": {},
   "outputs": [],
   "source": [
    "report_lengths = train_data['report'].apply(num_tokens)"
   ]
  },
  {
   "cell_type": "code",
   "execution_count": 49,
   "metadata": {},
   "outputs": [
    {
     "data": {
      "text/plain": [
       "count     200.00000\n",
       "mean      656.71500\n",
       "std       458.20499\n",
       "min         5.00000\n",
       "25%       322.75000\n",
       "50%       550.00000\n",
       "75%       854.00000\n",
       "max      3701.00000\n",
       "Name: report, dtype: float64"
      ]
     },
     "execution_count": 49,
     "metadata": {},
     "output_type": "execute_result"
    }
   ],
   "source": [
    "report_lengths.describe()"
   ]
  },
  {
   "cell_type": "code",
   "execution_count": 51,
   "metadata": {},
   "outputs": [
    {
     "data": {
      "text/plain": [
       "1.050744"
      ]
     },
     "execution_count": 51,
     "metadata": {},
     "output_type": "execute_result"
    }
   ],
   "source": [
    "report_lengths.sum() * 0.008/1000"
   ]
  },
  {
   "cell_type": "markdown",
   "metadata": {},
   "source": [
    "## Data Formatting"
   ]
  },
  {
   "cell_type": "code",
   "execution_count": 52,
   "metadata": {},
   "outputs": [
    {
     "data": {
      "text/plain": [
       "array(['Cardiovascular / Pulmonary', 'Gastroenterology', 'Neurology',\n",
       "       'Radiology', 'Surgery'], dtype=object)"
      ]
     },
     "execution_count": 52,
     "metadata": {},
     "output_type": "execute_result"
    }
   ],
   "source": [
    "train_data['medical_specialty'].unique()"
   ]
  },
  {
   "cell_type": "code",
   "execution_count": null,
   "metadata": {},
   "outputs": [],
   "source": [
    "#System Prompt\n",
    "#User --> report\n",
    "#Assistant --> medical_specialty"
   ]
  },
  {
   "cell_type": "code",
   "execution_count": 53,
   "metadata": {},
   "outputs": [],
   "source": [
    "system_prompt = \"Given the medical description report, classify it into one of these categories: 'Cardiovascular / Pulmonary', 'Gastroenterology', 'Neurology', 'Radiology', 'Surgery'\""
   ]
  },
  {
   "cell_type": "code",
   "execution_count": 54,
   "metadata": {},
   "outputs": [
    {
     "name": "stdout",
     "output_type": "stream",
     "text": [
      "Given the medical description report, classify it into one of these categories: 'Cardiovascular / Pulmonary', 'Gastroenterology', 'Neurology', 'Radiology', 'Surgery'\n"
     ]
    }
   ],
   "source": [
    "print(system_prompt)"
   ]
  },
  {
   "cell_type": "code",
   "execution_count": 55,
   "metadata": {},
   "outputs": [],
   "source": [
    "sample_prompt = {\"messages\":[{'role':'system','content':system_prompt},\n",
    "                             {'role':'user','content':train_data['report'].iloc[0]},\n",
    "                             {'role':'assistant', 'content':train_data['medical_specialty'].iloc[0]}\n",
    "                            ]}"
   ]
  },
  {
   "cell_type": "code",
   "execution_count": 61,
   "metadata": {},
   "outputs": [],
   "source": [
    "def df_to_format(df):\n",
    "    formatted_data = []\n",
    "\n",
    "    for index, row in df.iterrows():\n",
    "        entry = {\"messages\":[\n",
    "                             {'role':'system','content':system_prompt},\n",
    "                             {'role':'user','content':row['report']},\n",
    "                             {'role':'assistant', 'content':row['medical_specialty']}\n",
    "                            ]\n",
    "                }\n",
    "        formatted_data.append(entry)\n",
    "    \n",
    "    return formatted_data"
   ]
  },
  {
   "cell_type": "code",
   "execution_count": 67,
   "metadata": {},
   "outputs": [],
   "source": [
    "train_formatdata = df_to_format(train_data)"
   ]
  },
  {
   "cell_type": "code",
   "execution_count": 68,
   "metadata": {},
   "outputs": [
    {
     "data": {
      "text/plain": [
       "{'messages': [{'role': 'system',\n",
       "   'content': \"Given the medical description report, classify it into one of these categories: 'Cardiovascular / Pulmonary', 'Gastroenterology', 'Neurology', 'Radiology', 'Surgery'\"},\n",
       "  {'role': 'user',\n",
       "   'content': 'On review of systems, the patient admits to hypertension and occasional heartburn.  She undergoes mammograms every six months, which have been negative for malignancy.  She denies fevers, chills, weight loss, fatigue, diabetes mellitus, thyroid disease, upper extremity trauma, night sweats, DVT, pulmonary embolism, anorexia, bone pain, headaches, seizures, angina, peripheral edema, claudication, orthopnea, PND, coronary artery disease, rheumatoid arthritis, rashes, upper extremity edema, cat scratches, cough, hemoptysis, shortness of breath, dyspnea at two flights of stairs, hoarseness, GI bleeding, change in bowel habits, dysphagia, ulcers, hematuria, or history of TB exposure.  She has had negative PPD.,PAST MEDICAL HISTORY:,  Hypertension.,PAST SURGICAL HISTORY:,  Right breast biopsy - benign.,SOCIAL HISTORY: , She was born and raised in Baltimore.  She has not performed farming or kept birds or cats.,Tobacco: None.,Ethanol: ,Drug Use: ,Occupation:  She is a registered nurse at Spring Grove Hospital.,Exposure: Negative to asbestos.,FAMILY HISTORY:,  Mother with breast cancer.,ALLERGIES: , Percocet and morphine causing temporary hypotension.,MEDICATIONS: , Caduet 10 mg p.o. q.d., Coreg CR 40 mg p.o. q.d., and Micardis HCT 80 mg/12.5 mg p.o. q.d.,PHYSICAL EXAMINATION: ,BP:  133/72'},\n",
       "  {'role': 'assistant', 'content': 'Cardiovascular / Pulmonary'}]}"
      ]
     },
     "execution_count": 68,
     "metadata": {},
     "output_type": "execute_result"
    }
   ],
   "source": [
    "train_formatdata[10]"
   ]
  },
  {
   "cell_type": "markdown",
   "metadata": {},
   "source": [
    "### Convert to json"
   ]
  },
  {
   "cell_type": "code",
   "execution_count": 64,
   "metadata": {},
   "outputs": [],
   "source": [
    "import json"
   ]
  },
  {
   "cell_type": "code",
   "execution_count": 65,
   "metadata": {},
   "outputs": [],
   "source": [
    "with open('fine_tuning_data.jsonl','w') as f:\n",
    "    for entry in train_formatdata:\n",
    "        f.write(json.dumps(entry))\n",
    "        f.write(\"\\n\")"
   ]
  },
  {
   "cell_type": "code",
   "execution_count": 69,
   "metadata": {},
   "outputs": [],
   "source": [
    "val_formatdata = df_to_format(val_data)"
   ]
  },
  {
   "cell_type": "code",
   "execution_count": 70,
   "metadata": {},
   "outputs": [],
   "source": [
    "with open('fine_tuning_data_val.jsonl','w') as f:\n",
    "    for entry in val_formatdata:\n",
    "        f.write(json.dumps(entry))\n",
    "        f.write('\\n')"
   ]
  },
  {
   "cell_type": "markdown",
   "metadata": {},
   "source": [
    "## Training Model"
   ]
  },
  {
   "cell_type": "code",
   "execution_count": null,
   "metadata": {},
   "outputs": [],
   "source": [
    "import openai\n",
    "from openai import OpenAI\n",
    "\n",
    "client = OpenAI(api_key=\"\")"
   ]
  },
  {
   "cell_type": "code",
   "execution_count": null,
   "metadata": {},
   "outputs": [],
   "source": [
    "file_upload_response = client.files.create(\n",
    "    file=open(\"fine_tuning_data.jsonl\", \"rb\"), purpose=\"fine-tune\"\n",
    ")"
   ]
  },
  {
   "cell_type": "code",
   "execution_count": null,
   "metadata": {},
   "outputs": [],
   "source": [
    "file_upload_response.status"
   ]
  },
  {
   "cell_type": "code",
   "execution_count": null,
   "metadata": {},
   "outputs": [],
   "source": [
    "file_upload_response_val = client.files.create(\n",
    "    file=open(\"fine_tuning_data_val.jsonl\", \"rb\"), purpose=\"fine-tune\"\n",
    ")"
   ]
  },
  {
   "cell_type": "code",
   "execution_count": null,
   "metadata": {},
   "outputs": [],
   "source": [
    "file_upload_response_val.status"
   ]
  },
  {
   "cell_type": "code",
   "execution_count": null,
   "metadata": {},
   "outputs": [],
   "source": [
    "fine_tuning_response = client.fine_tuning.jobs.create(\n",
    "    training_file=file_upload_response.id,\n",
    "    model=\"gpt-3.5-turbo\",\n",
    "    hyperparameters={\"n_epochs\": 1},\n",
    "    validation_file=file_upload_response_val.id,\n",
    ")"
   ]
  },
  {
   "cell_type": "code",
   "execution_count": null,
   "metadata": {},
   "outputs": [],
   "source": [
    "def classify_report(test_report, model):\n",
    "    completion = client.chat.completions.create(\n",
    "        model=model,\n",
    "        messages=[\n",
    "            {\"role\": \"system\", \"content\": system_prompt},\n",
    "            {\"role\": \"user\", \"content\": test_report},\n",
    "        ],\n",
    "    )\n",
    "    return completion.choices[0].message.content.strip()"
   ]
  },
  {
   "cell_type": "code",
   "execution_count": null,
   "metadata": {},
   "outputs": [],
   "source": [
    "import numpy as np\n",
    "model_list = [\"gpt-3.5-turbo\"] # add the name of your finetuned model here\n",
    "for model in model_list:\n",
    "    predicted_classes = []\n",
    "    ground_truth_classes = []\n",
    "\n",
    "    for line in test_data.iterrows():\n",
    "        report, specialty = line[1][\"report\"], line[1][\"medical_specialty\"]\n",
    "        ground_truth_classes.append(specialty.strip())\n",
    "        prediction = classify_report(report, model=model)\n",
    "        predicted_classes.append(prediction)\n",
    "\n",
    "    print(model,(np.array(predicted_classes) == np.array(ground_truth_classes)).mean())"
   ]
  }
 ],
 "metadata": {
  "kernelspec": {
   "display_name": ".venv",
   "language": "python",
   "name": "python3"
  },
  "language_info": {
   "codemirror_mode": {
    "name": "ipython",
    "version": 3
   },
   "file_extension": ".py",
   "mimetype": "text/x-python",
   "name": "python",
   "nbconvert_exporter": "python",
   "pygments_lexer": "ipython3",
   "version": "3.12.1"
  }
 },
 "nbformat": 4,
 "nbformat_minor": 2
}
